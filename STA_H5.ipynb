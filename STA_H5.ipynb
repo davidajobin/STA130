{
 "cells": [
  {
   "cell_type": "markdown",
   "id": "959bd91b",
   "metadata": {},
   "source": [
    "Q1\n",
    "A statistically describable hypothesis is typically one that makes a numeric/quantitative claim, and one that can describe the distribution of the world under the hypothesis. Ones that aren't testable are often subjective, or unabstractable to a data distribution.\n",
    "The main criterion for a \"good\" null hypothesis is one which makes a claim about a numeric value (statistic) pertaining to a data distribution.\n",
    "Null vs. Alternative: A null hypotheis is made in the context of trying to disprove (reject) a claim, and the alternative is constructed to be the \"anything else\" case, where we are trying to conclude the A.H. by throwing out the null."
   ]
  },
  {
   "cell_type": "markdown",
   "id": "52a8465c",
   "metadata": {},
   "source": [
    "Q2\n",
    "Hypothesis testing is making a claim about a parameter of the population, namely, mu, the population average. The claim is of the form mu = mu_0, where mu_0 is what the null hypothesis assumes the population average is. We then simulate taking many samples from a data distribution (such that mu=mu_0), and we compare that sampling distribution (the distribution of sample means, x_i) to our original sample mean (x_hat). In this sense, we deduce how realistic that should the null hypothesis be true, our original sample statistic could be achieved. If unrealistic, we can \"throw out\" the null hypothesis, and make a conclusion (inference) about the population, namely, that mu =/= mu_0."
   ]
  },
  {
   "cell_type": "markdown",
   "id": "1032ba73",
   "metadata": {},
   "source": [
    "Q3 \"Imagining a world where the null hypothesis is true\" Is a Layman's way of saying \"Assume the population follows the null hypothesis\". Thereby we can simulate, should H_0 be true, how likely our original sample was. If we face a \"ridiculousness\" i.e. strong improbability, we can conclude that H_0 is false, since it contradicts itself."
   ]
  },
  {
   "cell_type": "markdown",
   "id": "d5152148",
   "metadata": {},
   "source": [
    "Q4 When the p-value ends up being very small, what this means is that in the world of H_0, drawing a sample like ours (or even less probable) is extremely unlikely. Since we choose to believe we live in a more probable universe, we can throw out the notion that we live in \"H_0 world\""
   ]
  },
  {
   "cell_type": "code",
   "execution_count": 60,
   "id": "08c02867",
   "metadata": {},
   "outputs": [
    {
     "name": "stdout",
     "output_type": "stream",
     "text": [
      "Simulated p-value: 0.00068\n"
     ]
    }
   ],
   "source": [
    "#Q5\n",
    "import numpy as np\n",
    "\n",
    "# Given data\n",
    "n_couples = 124   # Total number of couples\n",
    "observed_right_tilt = 80  # Number of couples who tilted to the right\n",
    "prob_right = 0.5   # Under the null hypothesis, probability of tilting right is 50%\n",
    "\n",
    "# Simulation parameters\n",
    "n_simulations = 100000  # Number of simulations to estimate the p-value\n",
    "\n",
    "# Simulate head tilts under the null hypothesis using binomial distribution\n",
    "simulated_tilts = np.random.binomial(n_couples, prob_right, size=n_simulations)\n",
    "\n",
    "# Calculate p-value: proportion of simulations where the result is as extreme as or more extreme than observed\n",
    "p_value = np.sum(simulated_tilts >= observed_right_tilt) / n_simulations\n",
    "\n",
    "# Output the result\n",
    "print(f\"Simulated p-value: {p_value:.5f}\")\n"
   ]
  },
  {
   "cell_type": "markdown",
   "id": "73ed198b",
   "metadata": {},
   "source": [
    "Q5 Since the simulated p-value is less than 0.001, we have received very strong evidence against the null hypothesis, and we can throw out the idea that there is no head-tilting bias amongst the human kissing population."
   ]
  },
  {
   "cell_type": "markdown",
   "id": "9260e927",
   "metadata": {},
   "source": [
    "Q6 If the p value equals 0, that is, in the world of H_0 being true, there is mathematically no chance that we receive our original sample, we can say that H_0 is false, since assuming it's true leads to an absolute logical contradiction. This is rare for a good choice of H_0, however, and indicates that our intuition in choosing H_0 may have been misplaced.\n",
    "\n",
    "Without video evidence, there is no way to prove Fido's guilt, since there are infinitely many explanations for how an innocent Fido could (possibly) have ended up like he did.\n",
    "\n",
    "To \"definitively prove\" one way or another, the p-value must equal 0 or 1. Otherwise, based on the assumption of the null hypothesis, both ways are technically possible. Instead of focussing on proof, p-values help us in terms of making \"most likely\" statements, and in describing what \"probably\" happened."
   ]
  },
  {
   "cell_type": "code",
   "execution_count": 83,
   "id": "bc008c83",
   "metadata": {},
   "outputs": [
    {
     "name": "stdout",
     "output_type": "stream",
     "text": [
      "Right-tailed test p-value: 0.05290\n"
     ]
    }
   ],
   "source": [
    "#Q7\n",
    "import numpy as np\n",
    "import pandas as pd\n",
    "\n",
    "# Example patient data\n",
    "patient_data = pd.DataFrame({\n",
    "    \"PatientID\": [1, 2, 3, 4, 5, 6, 7, 8, 9, 10],\n",
    "    \"Age\": [45, 34, 29, 52, 37, 41, 33, 48, 26, 39],\n",
    "    \"Gender\": [\"M\", \"F\", \"M\", \"F\", \"M\", \"F\", \"M\", \"F\", \"M\", \"F\"],\n",
    "    \"InitialHealthScore\": [84, 78, 83, 81, 81, 80, 79, 85, 76, 83],\n",
    "    \"FinalHealthScore\": [86, 86, 80, 86, 84, 86, 86, 82, 83, 84]\n",
    "})\n",
    "patient_data['HealthScoreChange'] = patient_data.FinalHealthScore - patient_data.InitialHealthScore\n",
    "\n",
    "# Simulate under H0\n",
    "np.random.seed(5)  # For reproducibility\n",
    "number_of_simulations = 10000\n",
    "n_size = len(patient_data)\n",
    "\n",
    "IncreaseProportionSimulations_underH0random = np.zeros(number_of_simulations)\n",
    "\n",
    "# Generate random improvements under H0 (null hypothesis: no treatment effect)\n",
    "for i in range(number_of_simulations):\n",
    "    random_improvement = np.random.choice([0,1], size=len(patient_data), replace=True)\n",
    "    IncreaseProportionSimulations_underH0random[i] = random_improvement.mean()\n",
    "\n",
    "# Observed statistic (proportion of improvements)\n",
    "observed_statistic = (patient_data.HealthScoreChange > 0).mean()\n",
    "\n",
    "# Right-tailed test: Are the simulated statistics greater than or equal to the observed statistic?\n",
    "SimStats_as_or_more_extreme_than_ObsStat = IncreaseProportionSimulations_underH0random >= observed_statistic\n",
    "\n",
    "# Calculate p-value for right-tailed test\n",
    "p_value = SimStats_as_or_more_extreme_than_ObsStat.sum() / number_of_simulations\n",
    "print(f\"Right-tailed test p-value: {p_value:.5f}\")\n"
   ]
  },
  {
   "cell_type": "markdown",
   "id": "1b0bcf11",
   "metadata": {},
   "source": [
    "Q7 The code above, generated with ChatGPT, modifying the code from Demo II of last tut, is a one-tailed hypothesis test (right-sided), creating a p-value which measures the odds that the proportion of positive to negative improvements is greater than the observed statistic, rather than \"more extreme\".\n",
    "This code generates a lower p-value than the original code, since it measures less of the area under the sampling distribution curve. This is true in general when comparing two-tailed to one-tailed simulations."
   ]
  },
  {
   "cell_type": "markdown",
   "id": "d75bd672",
   "metadata": {},
   "source": [
    "Q8 As the skeptical representative of Ronald Fisher, I do not believe that the average person can tell the difference between tead milk and milked tea. I want to see if this belief is consistent with my sample of 80 STA130 students, 49 of whom correctly guessed the type of beverage they drank. To do this, I will assume my formal null hypothesis: That r (the proportion of the population (humans who drink a cup of tea and guess correctly about the milk-adding) who correctly guess the milk-situation is 0.5. So my hypothesis (r=0.5) says that on average, people cannot beat the odds on milk-guessing. The Alternative hypothesis is that r=/=0.5, meaning that for the average person, the order of adding milk has an effect on their guess."
   ]
  },
  {
   "cell_type": "markdown",
   "id": "fe814964",
   "metadata": {},
   "source": [
    "To test the null hypothesis, we will create a sampling distribution under the assumption that it's true. Luckily, our null hypothesis induces a binomial distribution, so we can just work with the pure mathematical object. The samples will be the same size as the original (80) and for each sample, we calculate the proportion or right guesses to wrong guesses. Afterwards, we will compare the observed statistic (the ratio from the sample of STA students) to the distribution, to check whether or not we can throw out the null-hypothesis reasonably."
   ]
  },
  {
   "cell_type": "code",
   "execution_count": 94,
   "id": "21f0fba3",
   "metadata": {},
   "outputs": [
    {
     "name": "stdout",
     "output_type": "stream",
     "text": [
      "Observed proportion: 0.613\n",
      "P-value (two-tailed test): 0.05666\n"
     ]
    }
   ],
   "source": [
    "#Q8: Here is the code:\n",
    "import numpy as np\n",
    "import scipy.stats as stats\n",
    "\n",
    "# Set the seed for reproducibility\n",
    "np.random.seed(1)\n",
    "\n",
    "# Given data\n",
    "n = 80  # Total number of students\n",
    "x = 49  # Number of correct guesses\n",
    "p_null = 0.5  # Null hypothesis: proportion of correct guesses is 0.5\n",
    "\n",
    "# Calculate the observed proportion of correct guesses\n",
    "observed_proportion = x / n\n",
    "\n",
    "# Run a two-tailed binomial test using scipy.stats.binom_test\n",
    "# We use the two-tailed test by comparing against 0.5 and checking both extremes\n",
    "p_value = stats.binomtest(x, n, p_null, alternative='two-sided')\n",
    "result = p_value.pvalue\n",
    "# Output the results\n",
    "print(f\"Observed proportion: {observed_proportion:.3f}\")\n",
    "print(f\"P-value (two-tailed test): {result:.5f}\")\n"
   ]
  },
  {
   "cell_type": "markdown",
   "id": "f91851a4",
   "metadata": {},
   "source": [
    "Q9:\n",
    "No"
   ]
  },
  {
   "cell_type": "markdown",
   "id": "bed8f468",
   "metadata": {},
   "source": [
    "ChatBot Summary:\n",
    "Link to conversation: https://chatgpt.com/share/670f3190-a944-8010-aaa9-72b93fc027df\n",
    "### Hypothesis Testing and Binomial Test\n",
    "\n",
    "1. **Context**: \n",
    "   You were tasked with analyzing an experiment in which 80 students were asked to determine if milk or tea was poured first in a cup. The null hypothesis was that students were randomly guessing, so the proportion of correct guesses would be 0.5.\n",
    "\n",
    "2. **Null Hypothesis**: \n",
    "   The null hypothesis was that the proportion of correct guesses is 0.5 (i.e., students are guessing randomly). The alternative hypothesis was that the proportion is not 0.5 (i.e., students are not guessing randomly).\n",
    "\n",
    "3. **Hypothesis Test**:\n",
    "   We used a **binomial test** to evaluate whether the observed proportion of correct guesses (49 out of 80) is significantly different from the expected 0.5 under the null hypothesis.\n",
    "   \n",
    "4. **Key Points**:\n",
    "   - **Observed Proportion**: Calculated as \\( \\frac{49}{80} = 0.6125 \\).\n",
    "   - **Binomial Test**: We used `stats.binom_test` from **SciPy** to test whether the proportion of correct guesses was significantly different from 0.5. The test is based on the binomial distribution, and it provides the exact p-value.\n",
    "   \n",
    "5. **Code**:\n",
    "   The code used to perform the test is as follows:\n",
    "   ```python\n",
    "   import numpy as np\n",
    "   import scipy.stats as stats\n",
    "   \n",
    "   # Set the seed for reproducibility\n",
    "   np.random.seed(1)\n",
    "   \n",
    "   # Given data\n",
    "   n = 80  # Total number of students\n",
    "   x = 49  # Number of correct guesses\n",
    "   p_null = 0.5  # Null hypothesis: proportion of correct guesses is 0.5\n",
    "   \n",
    "   # Calculate the observed proportion of correct guesses\n",
    "   observed_proportion = x / n\n",
    "   \n",
    "   # Run a two-tailed binomial test using scipy.stats.binom_test\n",
    "   result = stats.binom_test(x, n, p_null, alternative='two-sided')\n",
    "   \n",
    "   # Output the results\n",
    "   print(f\"Observed proportion: {observed_proportion:.3f}\")\n",
    "   print(f\"P-value (two-tailed test): {result:.5f}\")\n",
    "   ```\n",
    "\n",
    "6. **P-value Interpretation**:\n",
    "   The `binom_test` directly calculates the p-value based on the binomial distribution without needing simulations or iterations. If the p-value is less than 0.05, we reject the null hypothesis and conclude that the students' guesses are significantly different from random guessing.\n",
    "\n",
    "7. **Key Concepts**:\n",
    "   - **Null Hypothesis**: The hypothesis that the proportion of correct guesses is 0.5 (random guessing).\n",
    "   - **Alternative Hypothesis**: The hypothesis that the proportion is different from 0.5.\n",
    "   - **p-value**: The probability of observing the data (or something more extreme) under the null hypothesis. A smaller p-value indicates stronger evidence against the null hypothesis.\n",
    "\n",
    "8. **Conclusion**:\n",
    "   The test provides a p-value, which helps us determine whether there is enough evidence to reject the null hypothesis. If the p-value is smaller than the significance level (typically 0.05), we would conclude that the students are not just guessing randomly.\n"
   ]
  }
 ],
 "metadata": {
  "kernelspec": {
   "display_name": "Python 3 (ipykernel)",
   "language": "python",
   "name": "python3"
  },
  "language_info": {
   "codemirror_mode": {
    "name": "ipython",
    "version": 3
   },
   "file_extension": ".py",
   "mimetype": "text/x-python",
   "name": "python",
   "nbconvert_exporter": "python",
   "pygments_lexer": "ipython3",
   "version": "3.11.6"
  }
 },
 "nbformat": 4,
 "nbformat_minor": 5
}
