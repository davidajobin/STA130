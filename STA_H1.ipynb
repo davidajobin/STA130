{
 "cells": [
  {
   "cell_type": "code",
   "execution_count": 17,
   "id": "9167cd28-bd57-4185-9863-c20529754490",
   "metadata": {},
   "outputs": [
    {
     "data": {
      "text/plain": [
       "row_n           0\n",
       "id              1\n",
       "name            0\n",
       "gender          0\n",
       "species         0\n",
       "birthday        0\n",
       "personality     0\n",
       "song           11\n",
       "phrase          0\n",
       "full_id         0\n",
       "url             0\n",
       "dtype: int64"
      ]
     },
     "execution_count": 17,
     "metadata": {},
     "output_type": "execute_result"
    }
   ],
   "source": [
    "#Q1\n",
    "import pandas as pd\n",
    "url = \"https://raw.githubusercontent.com/rfordatascience/tidytuesday/master/data/2020/2020-05-05/villagers.csv\"\n",
    "df = pd.read_csv(url)\n",
    "df.isnull().sum()"
   ]
  },
  {
   "cell_type": "code",
   "execution_count": 4,
   "id": "ef99d391-ab79-47c6-8c6f-d5e86e919851",
   "metadata": {},
   "outputs": [
    {
     "name": "stdout",
     "output_type": "stream",
     "text": [
      "(391, 11)\n"
     ]
    }
   ],
   "source": [
    "#Q2\n",
    "print(df.shape)\n",
    "# Based on the conversation with GPT, an obvservation is analogous to a row of the table, i.e, an individual point of data.\n",
    "# A variable, on the other hand, refers to a column, in the sense that each column describes a certain aspect, or quality of each data point.\n"
   ]
  },
  {
   "cell_type": "code",
   "execution_count": 5,
   "id": "d9b1fa43-8122-4dd7-8562-3432dcce5c52",
   "metadata": {},
   "outputs": [
    {
     "name": "stdout",
     "output_type": "stream",
     "text": [
      "            row_n\n",
      "count  391.000000\n",
      "mean   239.902813\n",
      "std    140.702672\n",
      "min      2.000000\n",
      "25%    117.500000\n",
      "50%    240.000000\n",
      "75%    363.500000\n",
      "max    483.000000\n"
     ]
    },
    {
     "data": {
      "text/plain": [
       "personality\n",
       "lazy      60\n",
       "normal    59\n",
       "cranky    55\n",
       "snooty    55\n",
       "jock      55\n",
       "peppy     49\n",
       "smug      34\n",
       "uchi      24\n",
       "Name: count, dtype: int64"
      ]
     },
     "execution_count": 5,
     "metadata": {},
     "output_type": "execute_result"
    }
   ],
   "source": [
    "#Q3\n",
    "print(df.describe())\n",
    "df.dtypes\n",
    "df[\"personality\"].value_counts()"
   ]
  },
  {
   "cell_type": "code",
   "execution_count": 13,
   "id": "358ce97b-27c6-44e1-8b24-a043141c941d",
   "metadata": {},
   "outputs": [
    {
     "name": "stdout",
     "output_type": "stream",
     "text": [
      "          survived      pclass   sex         age       sibsp       parch  \\\n",
      "count   891.000000  891.000000   891  714.000000  891.000000  891.000000   \n",
      "unique         NaN         NaN     2         NaN         NaN         NaN   \n",
      "top            NaN         NaN  male         NaN         NaN         NaN   \n",
      "freq           NaN         NaN   577         NaN         NaN         NaN   \n",
      "mean      0.383838    2.308642   NaN   29.699118    0.523008    0.381594   \n",
      "std       0.486592    0.836071   NaN   14.526497    1.102743    0.806057   \n",
      "min       0.000000    1.000000   NaN    0.420000    0.000000    0.000000   \n",
      "25%       0.000000    2.000000   NaN   20.125000    0.000000    0.000000   \n",
      "50%       0.000000    3.000000   NaN   28.000000    0.000000    0.000000   \n",
      "75%       1.000000    3.000000   NaN   38.000000    1.000000    0.000000   \n",
      "max       1.000000    3.000000   NaN   80.000000    8.000000    6.000000   \n",
      "\n",
      "              fare embarked  class  who adult_male deck  embark_town alive  \\\n",
      "count   891.000000      889    891  891        891  203          889   891   \n",
      "unique         NaN        3      3    3          2    7            3     2   \n",
      "top            NaN        S  Third  man       True    C  Southampton    no   \n",
      "freq           NaN      644    491  537        537   59          644   549   \n",
      "mean     32.204208      NaN    NaN  NaN        NaN  NaN          NaN   NaN   \n",
      "std      49.693429      NaN    NaN  NaN        NaN  NaN          NaN   NaN   \n",
      "min       0.000000      NaN    NaN  NaN        NaN  NaN          NaN   NaN   \n",
      "25%       7.910400      NaN    NaN  NaN        NaN  NaN          NaN   NaN   \n",
      "50%      14.454200      NaN    NaN  NaN        NaN  NaN          NaN   NaN   \n",
      "75%      31.000000      NaN    NaN  NaN        NaN  NaN          NaN   NaN   \n",
      "max     512.329200      NaN    NaN  NaN        NaN  NaN          NaN   NaN   \n",
      "\n",
      "       alone  \n",
      "count    891  \n",
      "unique     2  \n",
      "top     True  \n",
      "freq     537  \n",
      "mean     NaN  \n",
      "std      NaN  \n",
      "min      NaN  \n",
      "25%      NaN  \n",
      "50%      NaN  \n",
      "75%      NaN  \n",
      "max      NaN  \n",
      "(891, 15)\n"
     ]
    }
   ],
   "source": [
    "#Q4\n",
    "url2 = \"https://raw.githubusercontent.com/mwaskom/seaborn-data/master/titanic.csv\"\n",
    "df2 = pd.read_csv(url2)\n",
    "df2.isnull().sum()\n",
    "print(df2.describe(include=\"all\"))\n",
    "# Since describe calculates many statistics based off of the data, it couldn't possibly have a way to handle missing data, so it skips those lines.\n",
    "print(df2.shape)\n",
    "# Shape, on the other hand, just contains the value of the size of the dataframe, and has nothing to do with the data therein."
   ]
  },
  {
   "cell_type": "code",
   "execution_count": 7,
   "id": "1efd8b28-6376-419c-820e-4c902ff35b42",
   "metadata": {},
   "outputs": [],
   "source": [
    "#Q5\n",
    "# An attribute serves the prupose of storing data specific to an instance of an object, and referencing that attribute doesn't change the object.\n",
    "# A method is a function specific to the object class, and has access to the attributes of said object."
   ]
  },
  {
   "cell_type": "markdown",
   "id": "52bc231e-71a5-4a5a-9760-54f787863887",
   "metadata": {},
   "source": [
    "Chat log for pre-lecture questions: https://chatgpt.com/share/48f649fa-569d-4b01-bd1a-de20ee8c9f28\n",
    "\n",
    "Summary (generated by GPT):\n",
    "\n",
    "Importing a Dataset:\n",
    "\n",
    "    You asked about importing a dataset from the URL \"https://raw.githubusercontent.com/rfordatascience/tidytuesday/master/data/2020/2020-05-05/villagers.csv\".\n",
    "    I explained how to load the dataset using Python and pandas, and provided code to check its shape (rows and columns). While I could not directly access the URL, I shared a Python snippet to do this in your environment:\n",
    "\n",
    "    python\n",
    "\n",
    "    import pandas as pd\n",
    "    url = \"https://raw.githubusercontent.com/rfordatascience/tidytuesday/master/data/2020/2020-05-05/villagers.csv\"\n",
    "    df = pd.read_csv(url)\n",
    "    print(df.shape)\n",
    "\n",
    "Definition of Observations:\n",
    "\n",
    "    You asked what \"observations\" are in the context of your dataset.\n",
    "    I explained that observations are the individual entries or rows in your dataset. For example, each row in your villagers dataset likely represents one unique villager, with columns providing details (like name, species, birthday, etc.).\n",
    "\n",
    "Summarizing Dataset Columns:\n",
    "\n",
    "    You wanted to know how to provide simple summaries of the columns in your dataset.\n",
    "    I provided a list of common Python functions using pandas to summarize columns, including:\n",
    "        df.describe(): For summary statistics of numerical columns.\n",
    "        df.describe(include='all'): For both numerical and categorical columns.\n",
    "        df.dtypes: To display the data types of each column.\n",
    "        df['column_name'].value_counts(): To see the distribution of values in a categorical column.\n",
    "        df.isnull().sum(): To check for missing values.\n",
    "        Full code snippet shared for your use.\n",
    "\n",
    "Difference Between Attributes and Methods in Python:\n",
    "\n",
    "    You asked about the difference between an attribute and a method in Python.\n",
    "    I explained that:\n",
    "        Attributes are variables that hold data or state for an object (e.g., name, age).\n",
    "        Methods are functions associated with an object that perform actions (e.g., greet()).\n",
    "    Example code was provided to illustrate these concepts."
   ]
  },
  {
   "cell_type": "code",
   "execution_count": 6,
   "id": "092a83a0-aa78-4051-9429-abcdc87d8242",
   "metadata": {},
   "outputs": [],
   "source": [
    "#Q6\n",
    "# count describes the number of rows being looked at by df.describe() (rows with empty values are discarded)\n",
    "# mean calculates the mean average of all numeric values of the column, (a+b+c+...)/n\n",
    "# std calculates the standard deviation, which is the square root of the variance\n",
    "# min is the minimum value of the column's dataset\n",
    "# 25%, 50%, and 75% are the values which sit at the first, second, and third quartiles, respectively.\n",
    "# max is the maximum value of the column's dataset"
   ]
  },
  {
   "cell_type": "code",
   "execution_count": 8,
   "id": "897cb4fd-0138-41d0-a6ee-5d55094f79e5",
   "metadata": {},
   "outputs": [
    {
     "data": {
      "text/plain": [
       "(379, 11)"
      ]
     },
     "execution_count": 8,
     "metadata": {},
     "output_type": "execute_result"
    }
   ],
   "source": [
    "#Q7\n",
    "#1\n",
    "# dropna() is better when the missing data is sporadic, congregating on a case-by-case basis, e.g when an individual observation failed in some manner, one will see many NANs.\n",
    "#2\n",
    "# del df[col] is better when the issue is inherent to the category, e.g. \"When were you married\" would have an abundance of NANs.\n",
    "#3\n",
    "# when considering both options for expunging missing data, it's important to use del df[col] first, since otherwise you could lose an unnecessary amount of data.\n",
    "# Consider the number of observations (rows) that would be removed by dropna, if not for removing the missing value associated with the variable 'col' beforehand.\n",
    "#4\n",
    "# using isnull().sum(), we find that df has only 12 instances of missing values, compared to its 391 rows.\n",
    "df.isnull().sum()\n",
    "df.shape\n",
    "# thus, using del df['col] would remove 391 points of data, whereas .dropna() would remove a maximum of 12 observations = 12*11 = 132 data points\n",
    "df_new=df.dropna()\n",
    "df_new.shape\n",
    "# the results confirm it^"
   ]
  },
  {
   "cell_type": "markdown",
   "id": "03217970-6b37-4ccc-971f-b3d0f2626561",
   "metadata": {},
   "source": [
    "Chat log for questions 6 and 7: https://chatgpt.com/share/48f649fa-569d-4b01-bd1a-de20ee8c9f28\n",
    "\n",
    "Summary (generated by GPT):\n",
    "\n",
    "    Understanding del df['col']:\n",
    "        You asked about the function of del df['col'] in Python.\n",
    "        I explained that this statement deletes a specified column ('col') from a pandas DataFrame in-place, meaning the column is permanently removed.\n",
    "        I provided an example where the age column is removed from a sample DataFrame using del df['age'].\n",
    "\n",
    "This summary highlights the recent discussion on how to delete a column from a DataFrame in Python."
   ]
  },
  {
   "cell_type": "code",
   "execution_count": 24,
   "id": "b7716321-8950-40e4-8694-78b51fa92afe",
   "metadata": {},
   "outputs": [
    {
     "data": {
      "text/html": [
       "<div>\n",
       "<style scoped>\n",
       "    .dataframe tbody tr th:only-of-type {\n",
       "        vertical-align: middle;\n",
       "    }\n",
       "\n",
       "    .dataframe tbody tr th {\n",
       "        vertical-align: top;\n",
       "    }\n",
       "\n",
       "    .dataframe thead th {\n",
       "        text-align: right;\n",
       "    }\n",
       "</style>\n",
       "<table border=\"1\" class=\"dataframe\">\n",
       "  <thead>\n",
       "    <tr style=\"text-align: right;\">\n",
       "      <th></th>\n",
       "      <th>count</th>\n",
       "      <th>mean</th>\n",
       "      <th>std</th>\n",
       "      <th>min</th>\n",
       "      <th>25%</th>\n",
       "      <th>50%</th>\n",
       "      <th>75%</th>\n",
       "      <th>max</th>\n",
       "    </tr>\n",
       "    <tr>\n",
       "      <th>sex</th>\n",
       "      <th></th>\n",
       "      <th></th>\n",
       "      <th></th>\n",
       "      <th></th>\n",
       "      <th></th>\n",
       "      <th></th>\n",
       "      <th></th>\n",
       "      <th></th>\n",
       "    </tr>\n",
       "  </thead>\n",
       "  <tbody>\n",
       "    <tr>\n",
       "      <th>female</th>\n",
       "      <td>261.0</td>\n",
       "      <td>27.915709</td>\n",
       "      <td>14.110146</td>\n",
       "      <td>0.75</td>\n",
       "      <td>18.0</td>\n",
       "      <td>27.0</td>\n",
       "      <td>37.0</td>\n",
       "      <td>63.0</td>\n",
       "    </tr>\n",
       "    <tr>\n",
       "      <th>male</th>\n",
       "      <td>453.0</td>\n",
       "      <td>30.726645</td>\n",
       "      <td>14.678201</td>\n",
       "      <td>0.42</td>\n",
       "      <td>21.0</td>\n",
       "      <td>29.0</td>\n",
       "      <td>39.0</td>\n",
       "      <td>80.0</td>\n",
       "    </tr>\n",
       "  </tbody>\n",
       "</table>\n",
       "</div>"
      ],
      "text/plain": [
       "        count       mean        std   min   25%   50%   75%   max\n",
       "sex                                                              \n",
       "female  261.0  27.915709  14.110146  0.75  18.0  27.0  37.0  63.0\n",
       "male    453.0  30.726645  14.678201  0.42  21.0  29.0  39.0  80.0"
      ]
     },
     "execution_count": 24,
     "metadata": {},
     "output_type": "execute_result"
    }
   ],
   "source": [
    "#Q8\n",
    "#1\n",
    "# df2.groupby(\"sex\")[\"age\"].describe() will group the observations in df2 together based on their value for the \"sex\" variable. Then, [\"age\"].describe() will display statistics on the age of the observations, grouped by \"sex\".\n",
    "df2.groupby(\"sex\")[\"age\"].describe()"
   ]
  },
  {
   "cell_type": "code",
   "execution_count": 23,
   "id": "ff66dc97-303c-4419-9cbb-3c9eb3b2913d",
   "metadata": {},
   "outputs": [],
   "source": [
    "#Q8\n",
    "#2\n",
    "# the meaning of \"count\" in this context is a different, since the scope of the stastics being gathered is different.\n",
    "# If the first category in groupby were a highly missing category, for example, and the describe method would be acting on a subset of the data sample, and thus only usable to make statements about that specific subsample.\n",
    "#3A: A tie! Both Google and GPT reveal almost immediately the necessary fix, but GPT was more descriptive and verbose, and StackOverflow was direct but less accesible to beginner internet users.\n",
    "#3B: GPT was better at detecting a spelling error, especially considering I copied the whole error block into the chat. Of course, good coders dont make spelling errors, they copy+paste! Again, perhaps useful for beginners.\n",
    "#3C: Yet again, GPT prevailed. And yet again, it comes most in handy when I (the user) failed to read the message which clearly and succinctly highlighted the issue. Every time I copy stuff into chat, I feel myself getting dumber and less willing to look into problems.\n",
    "#3D: Perhaps if english was not my first language, GPT was helpful here. Otherwise, the error message telling me my parenthesis was left unclosed should suffice. Google of course returned people's niche problems unrelated to the general case.\n",
    "#3E: Both google and GPT returned results, but naturally, GPT was more tolerant of extra gargabe. With google, one must activate the frontal cortex and formulate a sentence describling the issue, and in the process very often uncover what the solution was the whole time.\n",
    "#3F: I prefer GPT for this one, since the meaning of a KeyError was not immediately obvious to me.\n",
    "#3G: GPT was faster at finding the issue, especially helpful if you know next to no Python, and are unfamiliar with the most basic errors. Google, as usual, works too, requiring proper phrasing: \"What is the [error name] error in Python?\""
   ]
  },
  {
   "cell_type": "markdown",
   "id": "091d3dab-6c10-498e-a017-0032c66f27d8",
   "metadata": {},
   "source": [
    "Chat log for question 8: https://chatgpt.com/share/2d4a149f-fa8e-4ad9-a79e-3baf3027b8ca\n",
    "\n",
    "Summary (generated by GPT):\n",
    "\n",
    "Summary of Exchanges\n",
    "\n",
    "1. Understanding df.groupby(\"col1\")[\"col2\"].describe():\n",
    "\n",
    "    Question: What does df.groupby(\"col1\")[\"col2\"].describe() do?\n",
    "    Answer: It groups the DataFrame df by the column \"col1\" and then provides descriptive statistics for the column \"col2\" within each group.\n",
    "\n",
    "2. Error: KeyError: 'sex':\n",
    "\n",
    "    Issue: Encountered a KeyError when using df.groupby(\"sex\")[\"age\"].describe().\n",
    "    Solution: Suggested verifying column names, checking for case sensitivity, and ensuring the column \"sex\" exists in the DataFrame.\n",
    "\n",
    "3. Error: NameError: name 'pd' is not defined:\n",
    "\n",
    "    Issue: NameError indicating that pd was not defined.\n",
    "    Solution: Advised to import pandas with import pandas as pd.\n",
    "\n",
    "4. Error: HTTPError: HTTP Error 404: Not Found:\n",
    "\n",
    "    Issue: HTTPError when trying to read a CSV file from a URL.\n",
    "    Solution: Corrected the URL to https://raw.githubusercontent.com/mwaskom/seaborn-data/master/titanic.csv.\n",
    "\n",
    "5. Error: SyntaxError: '(' was never closed:\n",
    "\n",
    "    Issue: Syntax error due to an unclosed parenthesis.\n",
    "    Solution: Ensured that all parentheses are correctly closed in the code.\n",
    "\n",
    "6. Error: AttributeError: 'DataFrame' object has no attribute 'group_by':\n",
    "\n",
    "    Issue: Used group_by instead of groupby.\n",
    "    Solution: Corrected the method to groupby.\n",
    "\n",
    "7. Error: KeyError: 'Sex':\n",
    "\n",
    "    Issue: KeyError for the column \"Sex\", suggesting the column might be named differently.\n",
    "    Solution: Recommended checking column names and case sensitivity, and converting column names to lowercase if necessary.\n",
    "\n",
    "8. Error: NameError: name 'sex' is not defined:\n",
    "\n",
    "    Issue: Used sex without quotes, which caused a NameError.\n",
    "    Solution: Advised to use \"sex\" (with quotes) to refer to the column name correctly."
   ]
  }
 ],
 "metadata": {
  "kernelspec": {
   "display_name": "Python 3 (ipykernel)",
   "language": "python",
   "name": "python3"
  },
  "language_info": {
   "codemirror_mode": {
    "name": "ipython",
    "version": 3
   },
   "file_extension": ".py",
   "mimetype": "text/x-python",
   "name": "python",
   "nbconvert_exporter": "python",
   "pygments_lexer": "ipython3",
   "version": "3.11.6"
  }
 },
 "nbformat": 4,
 "nbformat_minor": 5
}
